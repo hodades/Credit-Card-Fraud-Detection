{
  "cells": [
    {
      "cell_type": "markdown",
      "metadata": {
        "id": "view-in-github",
        "colab_type": "text"
      },
      "source": [
        "<a href=\"https://colab.research.google.com/github/hodades/Faud-Detection-Bank-Acount-/blob/main/Fraud_Detection.ipynb\" target=\"_parent\"><img src=\"https://colab.research.google.com/assets/colab-badge.svg\" alt=\"Open In Colab\"/></a>"
      ]
    },
    {
      "cell_type": "markdown",
      "metadata": {
        "id": "EQAC1G5Gj0O7"
      },
      "source": [
        "# **Bank Account Fraud Detection Using Tree-Based Models and Resampling Techniques**\n",
        "\n",
        "## Introduction\n",
        "Fraud detection in banking systems is a critical task as fraudulent activities can lead to significant financial losses. The objective of this project is to develop a machine learning model capable of detecting fraudulent transactions using a tree-based model approach, while addressing the class imbalance in the dataset.\n",
        "\n",
        "### **Key Goals:**\n",
        "1. Explore the dataset to understand the key features and their relationships.\n",
        "2. Apply preprocessing techniques to clean and prepare the data.\n",
        "3. Handle class imbalance using resampling techniques (SMOTENC).\n",
        "4. Train tree-based models (Random Forest and Extra Trees) to classify transactions as fraudulent or legitimate.\n",
        "5. Evaluate the model using recall, ROC, and precision-recall curves to ensure the model is effective for imbalanced data.\n",
        "\n",
        "---\n",
        "\n",
        "## 1. Data Loading and Exploration\n",
        "\n",
        "The first step is to load the data and explore its structure. We want to understand the distribution of features, identify any missing values, and observe how many fraudulent transactions exist.\n",
        "\n"
      ]
    },
    {
      "cell_type": "code",
      "execution_count": null,
      "metadata": {
        "id": "mayJWP7IjKpj"
      },
      "outputs": [],
      "source": [
        "# Import necessary libraries\n",
        "import pandas as pd\n",
        "import seaborn as sns\n",
        "import matplotlib.pyplot as plt"
      ]
    },
    {
      "cell_type": "code",
      "execution_count": null,
      "metadata": {
        "colab": {
          "base_uri": "https://localhost:8080/",
          "height": 73
        },
        "id": "bfpif4U3jQT7",
        "outputId": "87ab1d10-7fb1-4b70-a7dc-6465cc5e16b8"
      },
      "outputs": [
        {
          "output_type": "display_data",
          "data": {
            "text/plain": [
              "<IPython.core.display.HTML object>"
            ],
            "text/html": [
              "\n",
              "     <input type=\"file\" id=\"files-0f165ebe-be66-4076-8701-3e7a4ec8a6ab\" name=\"files[]\" multiple disabled\n",
              "        style=\"border:none\" />\n",
              "     <output id=\"result-0f165ebe-be66-4076-8701-3e7a4ec8a6ab\">\n",
              "      Upload widget is only available when the cell has been executed in the\n",
              "      current browser session. Please rerun this cell to enable.\n",
              "      </output>\n",
              "      <script>// Copyright 2017 Google LLC\n",
              "//\n",
              "// Licensed under the Apache License, Version 2.0 (the \"License\");\n",
              "// you may not use this file except in compliance with the License.\n",
              "// You may obtain a copy of the License at\n",
              "//\n",
              "//      http://www.apache.org/licenses/LICENSE-2.0\n",
              "//\n",
              "// Unless required by applicable law or agreed to in writing, software\n",
              "// distributed under the License is distributed on an \"AS IS\" BASIS,\n",
              "// WITHOUT WARRANTIES OR CONDITIONS OF ANY KIND, either express or implied.\n",
              "// See the License for the specific language governing permissions and\n",
              "// limitations under the License.\n",
              "\n",
              "/**\n",
              " * @fileoverview Helpers for google.colab Python module.\n",
              " */\n",
              "(function(scope) {\n",
              "function span(text, styleAttributes = {}) {\n",
              "  const element = document.createElement('span');\n",
              "  element.textContent = text;\n",
              "  for (const key of Object.keys(styleAttributes)) {\n",
              "    element.style[key] = styleAttributes[key];\n",
              "  }\n",
              "  return element;\n",
              "}\n",
              "\n",
              "// Max number of bytes which will be uploaded at a time.\n",
              "const MAX_PAYLOAD_SIZE = 100 * 1024;\n",
              "\n",
              "function _uploadFiles(inputId, outputId) {\n",
              "  const steps = uploadFilesStep(inputId, outputId);\n",
              "  const outputElement = document.getElementById(outputId);\n",
              "  // Cache steps on the outputElement to make it available for the next call\n",
              "  // to uploadFilesContinue from Python.\n",
              "  outputElement.steps = steps;\n",
              "\n",
              "  return _uploadFilesContinue(outputId);\n",
              "}\n",
              "\n",
              "// This is roughly an async generator (not supported in the browser yet),\n",
              "// where there are multiple asynchronous steps and the Python side is going\n",
              "// to poll for completion of each step.\n",
              "// This uses a Promise to block the python side on completion of each step,\n",
              "// then passes the result of the previous step as the input to the next step.\n",
              "function _uploadFilesContinue(outputId) {\n",
              "  const outputElement = document.getElementById(outputId);\n",
              "  const steps = outputElement.steps;\n",
              "\n",
              "  const next = steps.next(outputElement.lastPromiseValue);\n",
              "  return Promise.resolve(next.value.promise).then((value) => {\n",
              "    // Cache the last promise value to make it available to the next\n",
              "    // step of the generator.\n",
              "    outputElement.lastPromiseValue = value;\n",
              "    return next.value.response;\n",
              "  });\n",
              "}\n",
              "\n",
              "/**\n",
              " * Generator function which is called between each async step of the upload\n",
              " * process.\n",
              " * @param {string} inputId Element ID of the input file picker element.\n",
              " * @param {string} outputId Element ID of the output display.\n",
              " * @return {!Iterable<!Object>} Iterable of next steps.\n",
              " */\n",
              "function* uploadFilesStep(inputId, outputId) {\n",
              "  const inputElement = document.getElementById(inputId);\n",
              "  inputElement.disabled = false;\n",
              "\n",
              "  const outputElement = document.getElementById(outputId);\n",
              "  outputElement.innerHTML = '';\n",
              "\n",
              "  const pickedPromise = new Promise((resolve) => {\n",
              "    inputElement.addEventListener('change', (e) => {\n",
              "      resolve(e.target.files);\n",
              "    });\n",
              "  });\n",
              "\n",
              "  const cancel = document.createElement('button');\n",
              "  inputElement.parentElement.appendChild(cancel);\n",
              "  cancel.textContent = 'Cancel upload';\n",
              "  const cancelPromise = new Promise((resolve) => {\n",
              "    cancel.onclick = () => {\n",
              "      resolve(null);\n",
              "    };\n",
              "  });\n",
              "\n",
              "  // Wait for the user to pick the files.\n",
              "  const files = yield {\n",
              "    promise: Promise.race([pickedPromise, cancelPromise]),\n",
              "    response: {\n",
              "      action: 'starting',\n",
              "    }\n",
              "  };\n",
              "\n",
              "  cancel.remove();\n",
              "\n",
              "  // Disable the input element since further picks are not allowed.\n",
              "  inputElement.disabled = true;\n",
              "\n",
              "  if (!files) {\n",
              "    return {\n",
              "      response: {\n",
              "        action: 'complete',\n",
              "      }\n",
              "    };\n",
              "  }\n",
              "\n",
              "  for (const file of files) {\n",
              "    const li = document.createElement('li');\n",
              "    li.append(span(file.name, {fontWeight: 'bold'}));\n",
              "    li.append(span(\n",
              "        `(${file.type || 'n/a'}) - ${file.size} bytes, ` +\n",
              "        `last modified: ${\n",
              "            file.lastModifiedDate ? file.lastModifiedDate.toLocaleDateString() :\n",
              "                                    'n/a'} - `));\n",
              "    const percent = span('0% done');\n",
              "    li.appendChild(percent);\n",
              "\n",
              "    outputElement.appendChild(li);\n",
              "\n",
              "    const fileDataPromise = new Promise((resolve) => {\n",
              "      const reader = new FileReader();\n",
              "      reader.onload = (e) => {\n",
              "        resolve(e.target.result);\n",
              "      };\n",
              "      reader.readAsArrayBuffer(file);\n",
              "    });\n",
              "    // Wait for the data to be ready.\n",
              "    let fileData = yield {\n",
              "      promise: fileDataPromise,\n",
              "      response: {\n",
              "        action: 'continue',\n",
              "      }\n",
              "    };\n",
              "\n",
              "    // Use a chunked sending to avoid message size limits. See b/62115660.\n",
              "    let position = 0;\n",
              "    do {\n",
              "      const length = Math.min(fileData.byteLength - position, MAX_PAYLOAD_SIZE);\n",
              "      const chunk = new Uint8Array(fileData, position, length);\n",
              "      position += length;\n",
              "\n",
              "      const base64 = btoa(String.fromCharCode.apply(null, chunk));\n",
              "      yield {\n",
              "        response: {\n",
              "          action: 'append',\n",
              "          file: file.name,\n",
              "          data: base64,\n",
              "        },\n",
              "      };\n",
              "\n",
              "      let percentDone = fileData.byteLength === 0 ?\n",
              "          100 :\n",
              "          Math.round((position / fileData.byteLength) * 100);\n",
              "      percent.textContent = `${percentDone}% done`;\n",
              "\n",
              "    } while (position < fileData.byteLength);\n",
              "  }\n",
              "\n",
              "  // All done.\n",
              "  yield {\n",
              "    response: {\n",
              "      action: 'complete',\n",
              "    }\n",
              "  };\n",
              "}\n",
              "\n",
              "scope.google = scope.google || {};\n",
              "scope.google.colab = scope.google.colab || {};\n",
              "scope.google.colab._files = {\n",
              "  _uploadFiles,\n",
              "  _uploadFilesContinue,\n",
              "};\n",
              "})(self);\n",
              "</script> "
            ]
          },
          "metadata": {}
        },
        {
          "output_type": "stream",
          "name": "stdout",
          "text": [
            "Saving kaggle.json to kaggle (3).json\n"
          ]
        }
      ],
      "source": [
        "# Load the dataset from local storage\n",
        "from google.colab import files\n",
        "uploaded = files.upload()"
      ]
    },
    {
      "cell_type": "code",
      "execution_count": null,
      "metadata": {
        "id": "SfY6HnE9kw3e"
      },
      "outputs": [],
      "source": [
        "# Read the CSV file into a pandas DataFrame\n",
        "base = pd.read_csv('Base.csv')\n"
      ]
    },
    {
      "cell_type": "code",
      "execution_count": null,
      "metadata": {
        "colab": {
          "base_uri": "https://localhost:8080/",
          "height": 255
        },
        "id": "TWpgkEiJk1UK",
        "outputId": "f7d64ac1-a004-4413-ed87-d3e792f3f3a5"
      },
      "outputs": [
        {
          "data": {
            "application/vnd.google.colaboratory.intrinsic+json": {
              "type": "dataframe",
              "variable_name": "base"
            },
            "text/html": [
              "\n",
              "  <div id=\"df-624a4b79-0453-49b5-9451-fb084db4d941\" class=\"colab-df-container\">\n",
              "    <div>\n",
              "<style scoped>\n",
              "    .dataframe tbody tr th:only-of-type {\n",
              "        vertical-align: middle;\n",
              "    }\n",
              "\n",
              "    .dataframe tbody tr th {\n",
              "        vertical-align: top;\n",
              "    }\n",
              "\n",
              "    .dataframe thead th {\n",
              "        text-align: right;\n",
              "    }\n",
              "</style>\n",
              "<table border=\"1\" class=\"dataframe\">\n",
              "  <thead>\n",
              "    <tr style=\"text-align: right;\">\n",
              "      <th></th>\n",
              "      <th>fraud_bool</th>\n",
              "      <th>income</th>\n",
              "      <th>name_email_similarity</th>\n",
              "      <th>prev_address_months_count</th>\n",
              "      <th>current_address_months_count</th>\n",
              "      <th>customer_age</th>\n",
              "      <th>days_since_request</th>\n",
              "      <th>intended_balcon_amount</th>\n",
              "      <th>payment_type</th>\n",
              "      <th>zip_count_4w</th>\n",
              "      <th>...</th>\n",
              "      <th>has_other_cards</th>\n",
              "      <th>proposed_credit_limit</th>\n",
              "      <th>foreign_request</th>\n",
              "      <th>source</th>\n",
              "      <th>session_length_in_minutes</th>\n",
              "      <th>device_os</th>\n",
              "      <th>keep_alive_session</th>\n",
              "      <th>device_distinct_emails_8w</th>\n",
              "      <th>device_fraud_count</th>\n",
              "      <th>month</th>\n",
              "    </tr>\n",
              "  </thead>\n",
              "  <tbody>\n",
              "    <tr>\n",
              "      <th>0</th>\n",
              "      <td>0</td>\n",
              "      <td>0.3</td>\n",
              "      <td>0.986506</td>\n",
              "      <td>-1</td>\n",
              "      <td>25</td>\n",
              "      <td>40</td>\n",
              "      <td>0.006735</td>\n",
              "      <td>102.453711</td>\n",
              "      <td>AA</td>\n",
              "      <td>1059</td>\n",
              "      <td>...</td>\n",
              "      <td>0</td>\n",
              "      <td>1500.0</td>\n",
              "      <td>0</td>\n",
              "      <td>INTERNET</td>\n",
              "      <td>16.224843</td>\n",
              "      <td>linux</td>\n",
              "      <td>1</td>\n",
              "      <td>1</td>\n",
              "      <td>0</td>\n",
              "      <td>0</td>\n",
              "    </tr>\n",
              "    <tr>\n",
              "      <th>1</th>\n",
              "      <td>0</td>\n",
              "      <td>0.8</td>\n",
              "      <td>0.617426</td>\n",
              "      <td>-1</td>\n",
              "      <td>89</td>\n",
              "      <td>20</td>\n",
              "      <td>0.010095</td>\n",
              "      <td>-0.849551</td>\n",
              "      <td>AD</td>\n",
              "      <td>1658</td>\n",
              "      <td>...</td>\n",
              "      <td>0</td>\n",
              "      <td>1500.0</td>\n",
              "      <td>0</td>\n",
              "      <td>INTERNET</td>\n",
              "      <td>3.363854</td>\n",
              "      <td>other</td>\n",
              "      <td>1</td>\n",
              "      <td>1</td>\n",
              "      <td>0</td>\n",
              "      <td>0</td>\n",
              "    </tr>\n",
              "    <tr>\n",
              "      <th>2</th>\n",
              "      <td>0</td>\n",
              "      <td>0.8</td>\n",
              "      <td>0.996707</td>\n",
              "      <td>9</td>\n",
              "      <td>14</td>\n",
              "      <td>40</td>\n",
              "      <td>0.012316</td>\n",
              "      <td>-1.490386</td>\n",
              "      <td>AB</td>\n",
              "      <td>1095</td>\n",
              "      <td>...</td>\n",
              "      <td>0</td>\n",
              "      <td>200.0</td>\n",
              "      <td>0</td>\n",
              "      <td>INTERNET</td>\n",
              "      <td>22.730559</td>\n",
              "      <td>windows</td>\n",
              "      <td>0</td>\n",
              "      <td>1</td>\n",
              "      <td>0</td>\n",
              "      <td>0</td>\n",
              "    </tr>\n",
              "    <tr>\n",
              "      <th>3</th>\n",
              "      <td>0</td>\n",
              "      <td>0.6</td>\n",
              "      <td>0.475100</td>\n",
              "      <td>11</td>\n",
              "      <td>14</td>\n",
              "      <td>30</td>\n",
              "      <td>0.006991</td>\n",
              "      <td>-1.863101</td>\n",
              "      <td>AB</td>\n",
              "      <td>3483</td>\n",
              "      <td>...</td>\n",
              "      <td>0</td>\n",
              "      <td>200.0</td>\n",
              "      <td>0</td>\n",
              "      <td>INTERNET</td>\n",
              "      <td>15.215816</td>\n",
              "      <td>linux</td>\n",
              "      <td>1</td>\n",
              "      <td>1</td>\n",
              "      <td>0</td>\n",
              "      <td>0</td>\n",
              "    </tr>\n",
              "    <tr>\n",
              "      <th>4</th>\n",
              "      <td>0</td>\n",
              "      <td>0.9</td>\n",
              "      <td>0.842307</td>\n",
              "      <td>-1</td>\n",
              "      <td>29</td>\n",
              "      <td>40</td>\n",
              "      <td>5.742626</td>\n",
              "      <td>47.152498</td>\n",
              "      <td>AA</td>\n",
              "      <td>2339</td>\n",
              "      <td>...</td>\n",
              "      <td>0</td>\n",
              "      <td>200.0</td>\n",
              "      <td>0</td>\n",
              "      <td>INTERNET</td>\n",
              "      <td>3.743048</td>\n",
              "      <td>other</td>\n",
              "      <td>0</td>\n",
              "      <td>1</td>\n",
              "      <td>0</td>\n",
              "      <td>0</td>\n",
              "    </tr>\n",
              "  </tbody>\n",
              "</table>\n",
              "<p>5 rows × 32 columns</p>\n",
              "</div>\n",
              "    <div class=\"colab-df-buttons\">\n",
              "\n",
              "  <div class=\"colab-df-container\">\n",
              "    <button class=\"colab-df-convert\" onclick=\"convertToInteractive('df-624a4b79-0453-49b5-9451-fb084db4d941')\"\n",
              "            title=\"Convert this dataframe to an interactive table.\"\n",
              "            style=\"display:none;\">\n",
              "\n",
              "  <svg xmlns=\"http://www.w3.org/2000/svg\" height=\"24px\" viewBox=\"0 -960 960 960\">\n",
              "    <path d=\"M120-120v-720h720v720H120Zm60-500h600v-160H180v160Zm220 220h160v-160H400v160Zm0 220h160v-160H400v160ZM180-400h160v-160H180v160Zm440 0h160v-160H620v160ZM180-180h160v-160H180v160Zm440 0h160v-160H620v160Z\"/>\n",
              "  </svg>\n",
              "    </button>\n",
              "\n",
              "  <style>\n",
              "    .colab-df-container {\n",
              "      display:flex;\n",
              "      gap: 12px;\n",
              "    }\n",
              "\n",
              "    .colab-df-convert {\n",
              "      background-color: #E8F0FE;\n",
              "      border: none;\n",
              "      border-radius: 50%;\n",
              "      cursor: pointer;\n",
              "      display: none;\n",
              "      fill: #1967D2;\n",
              "      height: 32px;\n",
              "      padding: 0 0 0 0;\n",
              "      width: 32px;\n",
              "    }\n",
              "\n",
              "    .colab-df-convert:hover {\n",
              "      background-color: #E2EBFA;\n",
              "      box-shadow: 0px 1px 2px rgba(60, 64, 67, 0.3), 0px 1px 3px 1px rgba(60, 64, 67, 0.15);\n",
              "      fill: #174EA6;\n",
              "    }\n",
              "\n",
              "    .colab-df-buttons div {\n",
              "      margin-bottom: 4px;\n",
              "    }\n",
              "\n",
              "    [theme=dark] .colab-df-convert {\n",
              "      background-color: #3B4455;\n",
              "      fill: #D2E3FC;\n",
              "    }\n",
              "\n",
              "    [theme=dark] .colab-df-convert:hover {\n",
              "      background-color: #434B5C;\n",
              "      box-shadow: 0px 1px 3px 1px rgba(0, 0, 0, 0.15);\n",
              "      filter: drop-shadow(0px 1px 2px rgba(0, 0, 0, 0.3));\n",
              "      fill: #FFFFFF;\n",
              "    }\n",
              "  </style>\n",
              "\n",
              "    <script>\n",
              "      const buttonEl =\n",
              "        document.querySelector('#df-624a4b79-0453-49b5-9451-fb084db4d941 button.colab-df-convert');\n",
              "      buttonEl.style.display =\n",
              "        google.colab.kernel.accessAllowed ? 'block' : 'none';\n",
              "\n",
              "      async function convertToInteractive(key) {\n",
              "        const element = document.querySelector('#df-624a4b79-0453-49b5-9451-fb084db4d941');\n",
              "        const dataTable =\n",
              "          await google.colab.kernel.invokeFunction('convertToInteractive',\n",
              "                                                    [key], {});\n",
              "        if (!dataTable) return;\n",
              "\n",
              "        const docLinkHtml = 'Like what you see? Visit the ' +\n",
              "          '<a target=\"_blank\" href=https://colab.research.google.com/notebooks/data_table.ipynb>data table notebook</a>'\n",
              "          + ' to learn more about interactive tables.';\n",
              "        element.innerHTML = '';\n",
              "        dataTable['output_type'] = 'display_data';\n",
              "        await google.colab.output.renderOutput(dataTable, element);\n",
              "        const docLink = document.createElement('div');\n",
              "        docLink.innerHTML = docLinkHtml;\n",
              "        element.appendChild(docLink);\n",
              "      }\n",
              "    </script>\n",
              "  </div>\n",
              "\n",
              "\n",
              "<div id=\"df-2ce74d54-4ea6-496b-b9be-f8095c2abe48\">\n",
              "  <button class=\"colab-df-quickchart\" onclick=\"quickchart('df-2ce74d54-4ea6-496b-b9be-f8095c2abe48')\"\n",
              "            title=\"Suggest charts\"\n",
              "            style=\"display:none;\">\n",
              "\n",
              "<svg xmlns=\"http://www.w3.org/2000/svg\" height=\"24px\"viewBox=\"0 0 24 24\"\n",
              "     width=\"24px\">\n",
              "    <g>\n",
              "        <path d=\"M19 3H5c-1.1 0-2 .9-2 2v14c0 1.1.9 2 2 2h14c1.1 0 2-.9 2-2V5c0-1.1-.9-2-2-2zM9 17H7v-7h2v7zm4 0h-2V7h2v10zm4 0h-2v-4h2v4z\"/>\n",
              "    </g>\n",
              "</svg>\n",
              "  </button>\n",
              "\n",
              "<style>\n",
              "  .colab-df-quickchart {\n",
              "      --bg-color: #E8F0FE;\n",
              "      --fill-color: #1967D2;\n",
              "      --hover-bg-color: #E2EBFA;\n",
              "      --hover-fill-color: #174EA6;\n",
              "      --disabled-fill-color: #AAA;\n",
              "      --disabled-bg-color: #DDD;\n",
              "  }\n",
              "\n",
              "  [theme=dark] .colab-df-quickchart {\n",
              "      --bg-color: #3B4455;\n",
              "      --fill-color: #D2E3FC;\n",
              "      --hover-bg-color: #434B5C;\n",
              "      --hover-fill-color: #FFFFFF;\n",
              "      --disabled-bg-color: #3B4455;\n",
              "      --disabled-fill-color: #666;\n",
              "  }\n",
              "\n",
              "  .colab-df-quickchart {\n",
              "    background-color: var(--bg-color);\n",
              "    border: none;\n",
              "    border-radius: 50%;\n",
              "    cursor: pointer;\n",
              "    display: none;\n",
              "    fill: var(--fill-color);\n",
              "    height: 32px;\n",
              "    padding: 0;\n",
              "    width: 32px;\n",
              "  }\n",
              "\n",
              "  .colab-df-quickchart:hover {\n",
              "    background-color: var(--hover-bg-color);\n",
              "    box-shadow: 0 1px 2px rgba(60, 64, 67, 0.3), 0 1px 3px 1px rgba(60, 64, 67, 0.15);\n",
              "    fill: var(--button-hover-fill-color);\n",
              "  }\n",
              "\n",
              "  .colab-df-quickchart-complete:disabled,\n",
              "  .colab-df-quickchart-complete:disabled:hover {\n",
              "    background-color: var(--disabled-bg-color);\n",
              "    fill: var(--disabled-fill-color);\n",
              "    box-shadow: none;\n",
              "  }\n",
              "\n",
              "  .colab-df-spinner {\n",
              "    border: 2px solid var(--fill-color);\n",
              "    border-color: transparent;\n",
              "    border-bottom-color: var(--fill-color);\n",
              "    animation:\n",
              "      spin 1s steps(1) infinite;\n",
              "  }\n",
              "\n",
              "  @keyframes spin {\n",
              "    0% {\n",
              "      border-color: transparent;\n",
              "      border-bottom-color: var(--fill-color);\n",
              "      border-left-color: var(--fill-color);\n",
              "    }\n",
              "    20% {\n",
              "      border-color: transparent;\n",
              "      border-left-color: var(--fill-color);\n",
              "      border-top-color: var(--fill-color);\n",
              "    }\n",
              "    30% {\n",
              "      border-color: transparent;\n",
              "      border-left-color: var(--fill-color);\n",
              "      border-top-color: var(--fill-color);\n",
              "      border-right-color: var(--fill-color);\n",
              "    }\n",
              "    40% {\n",
              "      border-color: transparent;\n",
              "      border-right-color: var(--fill-color);\n",
              "      border-top-color: var(--fill-color);\n",
              "    }\n",
              "    60% {\n",
              "      border-color: transparent;\n",
              "      border-right-color: var(--fill-color);\n",
              "    }\n",
              "    80% {\n",
              "      border-color: transparent;\n",
              "      border-right-color: var(--fill-color);\n",
              "      border-bottom-color: var(--fill-color);\n",
              "    }\n",
              "    90% {\n",
              "      border-color: transparent;\n",
              "      border-bottom-color: var(--fill-color);\n",
              "    }\n",
              "  }\n",
              "</style>\n",
              "\n",
              "  <script>\n",
              "    async function quickchart(key) {\n",
              "      const quickchartButtonEl =\n",
              "        document.querySelector('#' + key + ' button');\n",
              "      quickchartButtonEl.disabled = true;  // To prevent multiple clicks.\n",
              "      quickchartButtonEl.classList.add('colab-df-spinner');\n",
              "      try {\n",
              "        const charts = await google.colab.kernel.invokeFunction(\n",
              "            'suggestCharts', [key], {});\n",
              "      } catch (error) {\n",
              "        console.error('Error during call to suggestCharts:', error);\n",
              "      }\n",
              "      quickchartButtonEl.classList.remove('colab-df-spinner');\n",
              "      quickchartButtonEl.classList.add('colab-df-quickchart-complete');\n",
              "    }\n",
              "    (() => {\n",
              "      let quickchartButtonEl =\n",
              "        document.querySelector('#df-2ce74d54-4ea6-496b-b9be-f8095c2abe48 button');\n",
              "      quickchartButtonEl.style.display =\n",
              "        google.colab.kernel.accessAllowed ? 'block' : 'none';\n",
              "    })();\n",
              "  </script>\n",
              "</div>\n",
              "\n",
              "    </div>\n",
              "  </div>\n"
            ],
            "text/plain": [
              "   fraud_bool  income  name_email_similarity  prev_address_months_count  \\\n",
              "0           0     0.3               0.986506                         -1   \n",
              "1           0     0.8               0.617426                         -1   \n",
              "2           0     0.8               0.996707                          9   \n",
              "3           0     0.6               0.475100                         11   \n",
              "4           0     0.9               0.842307                         -1   \n",
              "\n",
              "   current_address_months_count  customer_age  days_since_request  \\\n",
              "0                            25            40            0.006735   \n",
              "1                            89            20            0.010095   \n",
              "2                            14            40            0.012316   \n",
              "3                            14            30            0.006991   \n",
              "4                            29            40            5.742626   \n",
              "\n",
              "   intended_balcon_amount payment_type  zip_count_4w  ...  has_other_cards  \\\n",
              "0              102.453711           AA          1059  ...                0   \n",
              "1               -0.849551           AD          1658  ...                0   \n",
              "2               -1.490386           AB          1095  ...                0   \n",
              "3               -1.863101           AB          3483  ...                0   \n",
              "4               47.152498           AA          2339  ...                0   \n",
              "\n",
              "   proposed_credit_limit  foreign_request    source  \\\n",
              "0                 1500.0                0  INTERNET   \n",
              "1                 1500.0                0  INTERNET   \n",
              "2                  200.0                0  INTERNET   \n",
              "3                  200.0                0  INTERNET   \n",
              "4                  200.0                0  INTERNET   \n",
              "\n",
              "   session_length_in_minutes device_os  keep_alive_session  \\\n",
              "0                  16.224843     linux                   1   \n",
              "1                   3.363854     other                   1   \n",
              "2                  22.730559   windows                   0   \n",
              "3                  15.215816     linux                   1   \n",
              "4                   3.743048     other                   0   \n",
              "\n",
              "   device_distinct_emails_8w device_fraud_count  month  \n",
              "0                          1                  0      0  \n",
              "1                          1                  0      0  \n",
              "2                          1                  0      0  \n",
              "3                          1                  0      0  \n",
              "4                          1                  0      0  \n",
              "\n",
              "[5 rows x 32 columns]"
            ]
          },
          "execution_count": 17,
          "metadata": {},
          "output_type": "execute_result"
        }
      ],
      "source": [
        "# Display the first few rows of the dataset\n",
        "base.head()"
      ]
    },
    {
      "cell_type": "code",
      "execution_count": null,
      "metadata": {
        "colab": {
          "base_uri": "https://localhost:8080/"
        },
        "id": "CorhLDpzlBQT",
        "outputId": "ec39e1fd-14e3-47de-f19b-d1a44013358d"
      },
      "outputs": [
        {
          "name": "stdout",
          "output_type": "stream",
          "text": [
            "<class 'pandas.core.frame.DataFrame'>\n",
            "RangeIndex: 1000000 entries, 0 to 999999\n",
            "Data columns (total 32 columns):\n",
            " #   Column                            Non-Null Count    Dtype  \n",
            "---  ------                            --------------    -----  \n",
            " 0   fraud_bool                        1000000 non-null  int64  \n",
            " 1   income                            1000000 non-null  float64\n",
            " 2   name_email_similarity             1000000 non-null  float64\n",
            " 3   prev_address_months_count         1000000 non-null  int64  \n",
            " 4   current_address_months_count      1000000 non-null  int64  \n",
            " 5   customer_age                      1000000 non-null  int64  \n",
            " 6   days_since_request                1000000 non-null  float64\n",
            " 7   intended_balcon_amount            1000000 non-null  float64\n",
            " 8   payment_type                      1000000 non-null  object \n",
            " 9   zip_count_4w                      1000000 non-null  int64  \n",
            " 10  velocity_6h                       1000000 non-null  float64\n",
            " 11  velocity_24h                      1000000 non-null  float64\n",
            " 12  velocity_4w                       1000000 non-null  float64\n",
            " 13  bank_branch_count_8w              1000000 non-null  int64  \n",
            " 14  date_of_birth_distinct_emails_4w  1000000 non-null  int64  \n",
            " 15  employment_status                 1000000 non-null  object \n",
            " 16  credit_risk_score                 1000000 non-null  int64  \n",
            " 17  email_is_free                     1000000 non-null  int64  \n",
            " 18  housing_status                    1000000 non-null  object \n",
            " 19  phone_home_valid                  1000000 non-null  int64  \n",
            " 20  phone_mobile_valid                1000000 non-null  int64  \n",
            " 21  bank_months_count                 1000000 non-null  int64  \n",
            " 22  has_other_cards                   1000000 non-null  int64  \n",
            " 23  proposed_credit_limit             1000000 non-null  float64\n",
            " 24  foreign_request                   1000000 non-null  int64  \n",
            " 25  source                            1000000 non-null  object \n",
            " 26  session_length_in_minutes         1000000 non-null  float64\n",
            " 27  device_os                         1000000 non-null  object \n",
            " 28  keep_alive_session                1000000 non-null  int64  \n",
            " 29  device_distinct_emails_8w         1000000 non-null  int64  \n",
            " 30  device_fraud_count                1000000 non-null  int64  \n",
            " 31  month                             1000000 non-null  int64  \n",
            "dtypes: float64(9), int64(18), object(5)\n",
            "memory usage: 244.1+ MB\n",
            "None\n"
          ]
        }
      ],
      "source": [
        "# Overview of the dataset (number of columns, data types, missing values)\n",
        "print(base.info())"
      ]
    },
    {
      "cell_type": "code",
      "execution_count": null,
      "metadata": {
        "colab": {
          "base_uri": "https://localhost:8080/"
        },
        "id": "ob06O6TtlJv7",
        "outputId": "47f321e0-bbc7-491c-e7c6-1969db2a4e53"
      },
      "outputs": [
        {
          "name": "stdout",
          "output_type": "stream",
          "text": [
            "           fraud_bool          income  name_email_similarity  \\\n",
            "count  1000000.000000  1000000.000000         1000000.000000   \n",
            "mean         0.011029        0.562696               0.493694   \n",
            "std          0.104438        0.290343               0.289125   \n",
            "min          0.000000        0.100000               0.000001   \n",
            "25%          0.000000        0.300000               0.225216   \n",
            "50%          0.000000        0.600000               0.492153   \n",
            "75%          0.000000        0.800000               0.755567   \n",
            "max          1.000000        0.900000               0.999999   \n",
            "\n",
            "       prev_address_months_count  current_address_months_count  \\\n",
            "count             1000000.000000                1000000.000000   \n",
            "mean                   16.718568                     86.587867   \n",
            "std                    44.046230                     88.406599   \n",
            "min                    -1.000000                     -1.000000   \n",
            "25%                    -1.000000                     19.000000   \n",
            "50%                    -1.000000                     52.000000   \n",
            "75%                    12.000000                    130.000000   \n",
            "max                   383.000000                    428.000000   \n",
            "\n",
            "         customer_age  days_since_request  intended_balcon_amount  \\\n",
            "count  1000000.000000        1.000000e+06          1000000.000000   \n",
            "mean        33.689080        1.025705e+00                8.661499   \n",
            "std         12.025799        5.381835e+00               20.236155   \n",
            "min         10.000000        4.036860e-09              -15.530555   \n",
            "25%         20.000000        7.193246e-03               -1.181488   \n",
            "50%         30.000000        1.517574e-02               -0.830507   \n",
            "75%         40.000000        2.633069e-02                4.984176   \n",
            "max         90.000000        7.845690e+01              112.956928   \n",
            "\n",
            "         zip_count_4w     velocity_6h  ...  phone_mobile_valid  \\\n",
            "count  1000000.000000  1000000.000000  ...      1000000.000000   \n",
            "mean      1572.692049     5665.296605  ...            0.889676   \n",
            "std       1005.374565     3009.380665  ...            0.313293   \n",
            "min          1.000000     -170.603072  ...            0.000000   \n",
            "25%        894.000000     3436.365848  ...            1.000000   \n",
            "50%       1263.000000     5319.769349  ...            1.000000   \n",
            "75%       1944.000000     7680.717827  ...            1.000000   \n",
            "max       6700.000000    16715.565404  ...            1.000000   \n",
            "\n",
            "       bank_months_count  has_other_cards  proposed_credit_limit  \\\n",
            "count     1000000.000000   1000000.000000         1000000.000000   \n",
            "mean           10.839303         0.222988             515.851010   \n",
            "std            12.116875         0.416251             487.559902   \n",
            "min            -1.000000         0.000000             190.000000   \n",
            "25%            -1.000000         0.000000             200.000000   \n",
            "50%             5.000000         0.000000             200.000000   \n",
            "75%            25.000000         0.000000             500.000000   \n",
            "max            32.000000         1.000000            2100.000000   \n",
            "\n",
            "       foreign_request  session_length_in_minutes  keep_alive_session  \\\n",
            "count   1000000.000000             1000000.000000      1000000.000000   \n",
            "mean          0.025242                   7.544940            0.576947   \n",
            "std           0.156859                   8.033106            0.494044   \n",
            "min           0.000000                  -1.000000            0.000000   \n",
            "25%           0.000000                   3.103053            0.000000   \n",
            "50%           0.000000                   5.114321            1.000000   \n",
            "75%           0.000000                   8.866131            1.000000   \n",
            "max           1.000000                  85.899143            1.000000   \n",
            "\n",
            "       device_distinct_emails_8w  device_fraud_count           month  \n",
            "count             1000000.000000           1000000.0  1000000.000000  \n",
            "mean                    1.018312                 0.0        3.288674  \n",
            "std                     0.180761                 0.0        2.209994  \n",
            "min                    -1.000000                 0.0        0.000000  \n",
            "25%                     1.000000                 0.0        1.000000  \n",
            "50%                     1.000000                 0.0        3.000000  \n",
            "75%                     1.000000                 0.0        5.000000  \n",
            "max                     2.000000                 0.0        7.000000  \n",
            "\n",
            "[8 rows x 27 columns]\n"
          ]
        }
      ],
      "source": [
        "# Statistical summary of the dataset\n",
        "print(base.describe())"
      ]
    },
    {
      "cell_type": "code",
      "execution_count": null,
      "metadata": {
        "colab": {
          "base_uri": "https://localhost:8080/"
        },
        "id": "81YA6DdalQXk",
        "outputId": "da2d7b3c-3a1b-41dd-e68e-16efc83999ff"
      },
      "outputs": [
        {
          "name": "stdout",
          "output_type": "stream",
          "text": [
            "fraud_bool                          0\n",
            "income                              0\n",
            "name_email_similarity               0\n",
            "prev_address_months_count           0\n",
            "current_address_months_count        0\n",
            "customer_age                        0\n",
            "days_since_request                  0\n",
            "intended_balcon_amount              0\n",
            "payment_type                        0\n",
            "zip_count_4w                        0\n",
            "velocity_6h                         0\n",
            "velocity_24h                        0\n",
            "velocity_4w                         0\n",
            "bank_branch_count_8w                0\n",
            "date_of_birth_distinct_emails_4w    0\n",
            "employment_status                   0\n",
            "credit_risk_score                   0\n",
            "email_is_free                       0\n",
            "housing_status                      0\n",
            "phone_home_valid                    0\n",
            "phone_mobile_valid                  0\n",
            "bank_months_count                   0\n",
            "has_other_cards                     0\n",
            "proposed_credit_limit               0\n",
            "foreign_request                     0\n",
            "source                              0\n",
            "session_length_in_minutes           0\n",
            "device_os                           0\n",
            "keep_alive_session                  0\n",
            "device_distinct_emails_8w           0\n",
            "device_fraud_count                  0\n",
            "month                               0\n",
            "dtype: int64\n"
          ]
        }
      ],
      "source": [
        "# Check for missing values\n",
        "print(base.isnull().sum())\n"
      ]
    },
    {
      "cell_type": "markdown",
      "metadata": {
        "id": "6m_l_GZJl0Jz"
      },
      "source": [
        "## Analysis\n",
        "- The dataset has **1,000,000 rows** and **32 columns**.\n",
        "- The target variable (**fraud_bool**) is imbalanced, with very few fraudulent transactions.\n",
        "- There are **no missing values**, which simplifies the preprocessing step.\n"
      ]
    },
    {
      "cell_type": "markdown",
      "metadata": {
        "id": "ZbBrjq8smryy"
      },
      "source": [
        "## 2. Data Visualization: Understanding Fraud vs Legitimate Transactions\n",
        "In this step, we will visualize the distribution of fraudulent (**fraud_bool = 1**) vs legitimate transactions (**fraud_bool = 0**). This will give us an idea of how imbalanced the dataset is.\n"
      ]
    },
    {
      "cell_type": "code",
      "execution_count": null,
      "metadata": {
        "id": "77dxnU9QmyE7"
      },
      "outputs": [],
      "source": [
        "# Set up the seaborn style and palette\n",
        "my_palette = sns.color_palette(\"husl\", 2)\n",
        "sns.set_style(\"whitegrid\")\n"
      ]
    },
    {
      "cell_type": "code",
      "execution_count": null,
      "metadata": {
        "colab": {
          "base_uri": "https://localhost:8080/",
          "height": 572
        },
        "id": "lYoGxfu0myGo",
        "outputId": "7af096ea-1c4e-43d3-c3a2-d10f06750aa4"
      },
      "outputs": [
        {
          "name": "stderr",
          "output_type": "stream",
          "text": [
            "<ipython-input-22-9686999efe8d>:3: FutureWarning: \n",
            "\n",
            "Passing `palette` without assigning `hue` is deprecated and will be removed in v0.14.0. Assign the `x` variable to `hue` and set `legend=False` for the same effect.\n",
            "\n",
            "  ax = sns.countplot(data=base, x=\"fraud_bool\", palette=my_palette, alpha=.6)\n"
          ]
        },
        {
          "data": {
            "image/png": "[encoded data removed]",
            "text/plain": [
              "<Figure size 640x480 with 1 Axes>"
            ]
          },
          "metadata": {},
          "output_type": "display_data"
        }
      ],
      "source": [
        "# Plot the distribution of fraud_bool (fraud vs non-fraud)\n",
        "\n",
        "ax = sns.countplot(data=base, x=\"fraud_bool\", palette=my_palette, alpha=.6)\n"
      ]
    },
    {
      "cell_type": "code",
      "execution_count": null,
      "metadata": {
        "colab": {
          "base_uri": "https://localhost:8080/",
          "height": 584
        },
        "id": "4EbE9w1jnehU",
        "outputId": "3d2a62c3-2930-42ef-909d-08d5a7281234"
      },
      "outputs": [
        {
          "name": "stderr",
          "output_type": "stream",
          "text": [
            "<ipython-input-24-e1797e66a6cd>:7: FutureWarning: \n",
            "\n",
            "Passing `palette` without assigning `hue` is deprecated and will be removed in v0.14.0. Assign the `x` variable to `hue` and set `legend=False` for the same effect.\n",
            "\n",
            "  ax = sns.countplot(data=base, x=\"fraud_bool\", palette=my_palette, alpha=.6)\n"
          ]
        },
        {
          "data": {
            "image/png": "[encoded data removed]",
            "text/plain": [
              "<Figure size 640x480 with 1 Axes>"
            ]
          },
          "metadata": {},
          "output_type": "display_data"
        }
      ],
      "source": [
        "# Set up the seaborn style and palette\n",
        "my_palette = sns.color_palette(\"husl\", 2)\n",
        "sns.set_style(\"whitegrid\")\n",
        "\n",
        "\n",
        "# Plot the distribution of fraud_bool (fraud vs non-fraud)\n",
        "ax = sns.countplot(data=base, x=\"fraud_bool\", palette=my_palette, alpha=.6)\n",
        "\n",
        "# Add labels for better readability\n",
        "for p in ax.patches:\n",
        "    height = int(p.get_height())\n",
        "    ax.annotate(f'{height}', (p.get_x() + p.get_width() / 2., height),\n",
        "                ha='center', va='center', fontsize=10, color='black', xytext=(0, 5),\n",
        "                textcoords='offset points')\n",
        "\n",
        "# Customize and display the plot\n",
        "plt.title(\"Number of Transactions by Fraud Status\", fontsize=14)\n",
        "plt.xlabel(\"Fraud\", fontsize=12)\n",
        "plt.ylabel(\"Count\", fontsize=12)\n",
        "plt.xticks(fontsize=10)\n",
        "plt.yticks(fontsize=10)\n",
        "plt.show()\n"
      ]
    },
    {
      "cell_type": "markdown",
      "metadata": {
        "id": "NThcEsBWoNXt"
      },
      "source": [
        "## Analysis\n",
        "The dataset is highly imbalanced, as shown in the chart, with **988971 legitimate transactions** compared to only **11029 fraudulent transactions**. This extreme imbalance means that the majority of the data consists of legitimate transactions, making it likely that a model trained on this dataset could simply predict most transactions as legitimate (non-fraudulent) without learning to identify fraudulent cases properly.\n",
        "\n",
        "To ensure the model performs well in detecting fraudulent transactions, this imbalance needs to be addressed. Techniques such as **resampling (oversampling the minority class or undersampling the majority class)**, **using different evaluation metrics** (like **precision, recall, or F1-score**), or **applying algorithms specifically designed for imbalanced data** should be considered.\n"
      ]
    },
    {
      "cell_type": "markdown",
      "metadata": {
        "id": "HSpWwR0FqG9u"
      },
      "source": [
        "## 3. Data Preprocessing\n",
        "To prepare the dataset for modeling, we need to:\n",
        "\n",
        "- Separate features from the target variable (**fraud_bool**).\n",
        "- Scale numerical features for better model performance.\n",
        "- Handle categorical variables in the later steps using **SMOTENC**.\n"
      ]
    },
    {
      "cell_type": "code",
      "execution_count": null,
      "metadata": {
        "id": "X5EbCJocoaPe"
      },
      "outputs": [],
      "source": [
        "from sklearn.preprocessing import StandardScaler\n",
        "from sklearn.model_selection import train_test_split"
      ]
    },
    {
      "cell_type": "code",
      "execution_count": null,
      "metadata": {
        "id": "gMaXmRnYoaQx"
      },
      "outputs": [],
      "source": [
        "# Dropping irrelevant columns (if any) and separating features from target\n",
        "X = base.drop(columns=['fraud_bool'])\n",
        "y = base['fraud_bool']"
      ]
    },
    {
      "cell_type": "code",
      "execution_count": null,
      "metadata": {
        "id": "v4cgEl6GqVds"
      },
      "outputs": [],
      "source": [
        "# Split the dataset into train and test sets\n",
        "X_train, X_test, y_train, y_test = train_test_split(X, y, test_size=0.3, random_state=42)"
      ]
    },
    {
      "cell_type": "code",
      "execution_count": null,
      "metadata": {
        "id": "KOmS3HjFqa0P"
      },
      "outputs": [],
      "source": [
        "# Scaling numerical features\n",
        "numerical_features = ['income', 'customer_age', 'days_since_request', 'intended_balcon_amount']\n",
        "scaler = StandardScaler()"
      ]
    },
    {
      "cell_type": "code",
      "execution_count": null,
      "metadata": {
        "colab": {
          "base_uri": "https://localhost:8080/"
        },
        "id": "rtdWbQCeqnLP",
        "outputId": "44e2ef51-2688-4d1f-9167-19a214ca0b1c"
      },
      "outputs": [
        {
          "name": "stdout",
          "output_type": "stream",
          "text": [
            "          income  name_email_similarity  prev_address_months_count  \\\n",
            "506532  1.161943               0.867135                         -1   \n",
            "327991  1.161943               0.683567                         -1   \n",
            "715937  1.161943               0.208940                         -1   \n",
            "860726  0.472990               0.081863                         -1   \n",
            "78617   0.472990               0.055971                         55   \n",
            "\n",
            "        current_address_months_count  customer_age  days_since_request  \\\n",
            "506532                           163      1.356529           -0.185255   \n",
            "327991                           358     -1.139019            1.624991   \n",
            "715937                            80      0.524680            1.575037   \n",
            "860726                           389     -0.307170            4.741603   \n",
            "78617                             10      0.524680           -0.188198   \n",
            "\n",
            "        intended_balcon_amount payment_type  zip_count_4w  velocity_6h  ...  \\\n",
            "506532               -0.447460           AB           748  4474.018526  ...   \n",
            "327991                2.103622           AA          1681  8354.604651  ...   \n",
            "715937                0.478215           AA          1135  5007.768756  ...   \n",
            "860726                0.761090           AA          1648  6050.435639  ...   \n",
            "78617                -0.476617           AC           801  9884.596229  ...   \n",
            "\n",
            "        has_other_cards  proposed_credit_limit  foreign_request    source  \\\n",
            "506532                1                 1500.0                0  INTERNET   \n",
            "327991                0                  200.0                0  INTERNET   \n",
            "715937                1                  200.0                0  INTERNET   \n",
            "860726                0                  200.0                0  INTERNET   \n",
            "78617                 0                 1000.0                0  INTERNET   \n",
            "\n",
            "       session_length_in_minutes  device_os  keep_alive_session  \\\n",
            "506532                  1.179210    windows                   1   \n",
            "327991                  7.843079      other                   0   \n",
            "715937                  2.832180      linux                   1   \n",
            "860726                  1.308071      linux                   1   \n",
            "78617                   8.819107      linux                   1   \n",
            "\n",
            "       device_distinct_emails_8w  device_fraud_count  month  \n",
            "506532                         1                   0      3  \n",
            "327991                         1                   0      2  \n",
            "715937                         1                   0      5  \n",
            "860726                         1                   0      6  \n",
            "78617                          1                   0      0  \n",
            "\n",
            "[5 rows x 31 columns]\n"
          ]
        }
      ],
      "source": [
        "# Apply the scaler to the numerical features\n",
        "X_train[numerical_features] = scaler.fit_transform(X_train[numerical_features])\n",
        "X_test[numerical_features] = scaler.transform(X_test[numerical_features])\n",
        "\n",
        "print(X_train.head())\n"
      ]
    },
    {
      "cell_type": "markdown",
      "metadata": {
        "id": "6XefpBjprJLv"
      },
      "source": [
        "## Analysis\n",
        "\n",
        "The data is ready for model training, with numerical features already scaled. However, there is still a big imbalance between legitimate and fraudulent transactions, which needs to be fixed using techniques like **SMOTE** or **undersampling**. Categorical features also need to be encoded before training the model. Once these issues are addressed, the data will be fully prepared for fraud detection.\n"
      ]
    },
    {
      "cell_type": "markdown",
      "metadata": {
        "id": "VptL2NCo3dLi"
      },
      "source": [
        "## 4. Handling Class Imbalance with SMOTENC\n",
        "Since fraudulent transactions are rare, we will use SMOTENC (Synthetic Minority Over-sampling Technique for Nominal and Continuous variables) to create synthetic examples of fraudulent transactions to balance the dataset.\n"
      ]
    },
    {
      "cell_type": "code",
      "execution_count": null,
      "metadata": {
        "colab": {
          "base_uri": "https://localhost:8080/"
        },
        "id": "_1hLaPcN5nDh",
        "outputId": "3cb233d1-c2dc-47e4-9b8a-b1b42d2d574a"
      },
      "outputs": [
        {
          "name": "stdout",
          "output_type": "stream",
          "text": [
            "Resampled dataset shape: (1384370, 31)\n",
            "Class distribution after resampling:\n",
            "fraud_bool\n",
            "0    692185\n",
            "1    692185\n",
            "Name: count, dtype: int64\n"
          ]
        }
      ],
      "source": [
        "from imblearn.over_sampling import SMOTENC\n",
        "from sklearn.model_selection import train_test_split\n",
        "\n",
        "# Identify categorical features and their indices\n",
        "categorical_features = ['payment_type', 'employment_status', 'housing_status', 'source', 'device_os']\n",
        "categorical_feature_indices = [X.columns.get_loc(col) for col in categorical_features]\n",
        "\n",
        "# Split the data into training and testing sets\n",
        "X_train, X_test, y_train, y_test = train_test_split(X, y, test_size=0.3, random_state=42)\n",
        "\n",
        "# Initialize SMOTENC with categorical feature indices\n",
        "smote_nc = SMOTENC(categorical_features=categorical_feature_indices, random_state=42)\n",
        "\n",
        "# Apply SMOTENC to the training data\n",
        "X_res, y_res = smote_nc.fit_resample(X_train, y_train)\n",
        "\n",
        "# Check the new class distribution\n",
        "print(f\"Resampled dataset shape: {X_res.shape}\")\n",
        "print(f\"Class distribution after resampling:\\n{y_res.value_counts()}\")\n"
      ]
    },
    {
      "cell_type": "markdown",
      "metadata": {
        "id": "N8HWMIqS8oun"
      },
      "source": [
        "#==>Analysis :\n",
        "I successfully applied SMOTENC to balance my training dataset, resulting in an equal number of legitimate (`fraud_bool = 0`) and fraudulent (`fraud_bool = 1`) transactions, with 692 185 instances each. This effectively addresses the class imbalance that was present in the original data, which would have led to a model biased towards predicting only non-fraudulent transactions. Now, with a balanced dataset, my model will have a better chance to learn the patterns of fraudulent behavior, improving its ability to detect fraud, particularly in terms of recall and precision. This gives me a solid foundation to build a more accurate and fair fraud detection model."
      ]
    },
    {
      "cell_type": "markdown",
      "source": [
        "# 5. Model Training and Evaluation with Baseline Models\n",
        "\n",
        "With the dataset balanced using SMOTENC, I now move on to training my machine learning models. I begin by training **Random Forest (RF)** and **Extra Trees (ET)** classifiers. Afterward, I’ll evaluate them using classification metrics that are particularly important for imbalanced datasets like this one.\n",
        "\n",
        "## Step 5.1: Model Hyperparameter Tuning\n",
        "\n",
        "To improve the models' ability to detect fraudulent transactions, I perform hyperparameter tuning using **RandomizedSearchCV**, focusing on parameters that could help improve recall for the minority class (fraudulent transactions). For the **Random Forest**, I define a parameter grid and tune the model.\n"
      ],
      "metadata": {
        "id": "mvnw0MDAcFS7"
      }
    },
    {
      "cell_type": "code",
      "source": [
        "from sklearn.model_selection import RandomizedSearchCV\n",
        "\n"
      ],
      "metadata": {
        "id": "_mLHKVEpcIoz",
        "outputId": "26c5c849-dbec-4898-9d69-dc275ad203c8",
        "colab": {
          "base_uri": "https://localhost:8080/",
          "height": 211
        }
      },
      "execution_count": 1,
      "outputs": [
        {
          "output_type": "error",
          "ename": "NameError",
          "evalue": "name 'rf_model' is not defined",
          "traceback": [
            "\u001b[0;31m---------------------------------------------------------------------------\u001b[0m",
            "\u001b[0;31mNameError\u001b[0m                                 Traceback (most recent call last)",
            "\u001b[0;32m<ipython-input-1-b5d6fb95aab1>\u001b[0m in \u001b[0;36m<cell line: 13>\u001b[0;34m()\u001b[0m\n\u001b[1;32m     11\u001b[0m \u001b[0;34m\u001b[0m\u001b[0m\n\u001b[1;32m     12\u001b[0m \u001b[0;31m# Perform RandomizedSearchCV for Random Forest\u001b[0m\u001b[0;34m\u001b[0m\u001b[0;34m\u001b[0m\u001b[0m\n\u001b[0;32m---> 13\u001b[0;31m rf_random_search = RandomizedSearchCV(estimator=rf_model, param_distributions=param_grid_rf, \n\u001b[0m\u001b[1;32m     14\u001b[0m                                       n_iter=10, scoring='recall', cv=3, random_state=42)\n\u001b[1;32m     15\u001b[0m \u001b[0mrf_random_search\u001b[0m\u001b[0;34m.\u001b[0m\u001b[0mfit\u001b[0m\u001b[0;34m(\u001b[0m\u001b[0mX_train_encoded\u001b[0m\u001b[0;34m,\u001b[0m \u001b[0my_train\u001b[0m\u001b[0;34m)\u001b[0m\u001b[0;34m\u001b[0m\u001b[0;34m\u001b[0m\u001b[0m\n",
            "\u001b[0;31mNameError\u001b[0m: name 'rf_model' is not defined"
          ]
        }
      ]
    }
  ],
  "metadata": {
    "colab": {
      "provenance": [],
      "authorship_tag": "ABX9TyPkStjdbeZNHNlngdNV5Gk1",
      "include_colab_link": true
    },
    "kernelspec": {
      "display_name": "Python 3",
      "name": "python3"
    },
    "language_info": {
      "name": "python"
    }
  },
  "nbformat": 4,
  "nbformat_minor": 0
}